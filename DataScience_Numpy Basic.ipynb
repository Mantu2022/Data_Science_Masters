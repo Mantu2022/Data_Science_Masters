{
 "cells": [
  {
   "cell_type": "code",
   "execution_count": null,
   "id": "55640084",
   "metadata": {},
   "outputs": [],
   "source": [
    "Consider the below code to answer further questions:\n",
    "import numpy as np\n",
    "list_ = [ ‘1’ , ’2’ , ‘3’ , ‘4’ , ‘5’ ]\n",
    "array_list = np.array(object = list_)\n",
    "Q1. Is there any difference in the data type of variables list_ and array_list? If there is then write a code\n",
    "to print the data types of both the variables."
   ]
  },
  {
   "cell_type": "code",
   "execution_count": 1,
   "id": "971637d1",
   "metadata": {},
   "outputs": [
    {
     "name": "stdout",
     "output_type": "stream",
     "text": [
      "Data type of list_: <class 'list'>\n",
      "Data type of array_list: <class 'numpy.ndarray'>\n"
     ]
    }
   ],
   "source": [
    "import numpy as np\n",
    "\n",
    "list_ = ['1', '2', '3', '4', '5']\n",
    "array_list = np.array(object=list_)\n",
    "\n",
    "print(\"Data type of list_:\", type(list_))\n",
    "print(\"Data type of array_list:\", type(array_list))"
   ]
  },
  {
   "cell_type": "code",
   "execution_count": null,
   "id": "0c5fdaec",
   "metadata": {},
   "outputs": [],
   "source": [
    "Q2. Write a code to print the data type of each and every element of both the variables list_ and\n",
    "arra_list."
   ]
  },
  {
   "cell_type": "code",
   "execution_count": 2,
   "id": "c87844a3",
   "metadata": {},
   "outputs": [
    {
     "name": "stdout",
     "output_type": "stream",
     "text": [
      "Data types of elements in list_:\n",
      "<class 'str'>\n",
      "<class 'str'>\n",
      "<class 'str'>\n",
      "<class 'str'>\n",
      "<class 'str'>\n",
      "\n",
      "Data types of elements in array_list:\n",
      "<class 'numpy.str_'>\n",
      "<class 'numpy.str_'>\n",
      "<class 'numpy.str_'>\n",
      "<class 'numpy.str_'>\n",
      "<class 'numpy.str_'>\n"
     ]
    }
   ],
   "source": [
    "import numpy as np\n",
    "\n",
    "list_ = ['1', '2', '3', '4', '5']\n",
    "array_list = np.array(object=list_)\n",
    "\n",
    "print(\"Data types of elements in list_:\")\n",
    "for element in list_:\n",
    "    print(type(element))\n",
    "\n",
    "print(\"\\nData types of elements in array_list:\")\n",
    "for element in array_list:\n",
    "    print(type(element))\n"
   ]
  },
  {
   "cell_type": "code",
   "execution_count": null,
   "id": "aa1a7b66",
   "metadata": {},
   "outputs": [],
   "source": [
    "Q3. Considering the following changes in the variable, array_list:\n",
    "array_list = np.array(object = list_, dtype = int)\n",
    "Will there be any difference in the data type of the elements present in both the variables, list_ and\n",
    "arra_list? If so then print the data types of each and every element present in both the variables, list_\n",
    "and arra_list.\n",
    "Consider the below code to answer further questions:\n",
    "import numpy as np\n",
    "num_list = [ [ 1 , 2 , 3 ] , [ 4 , 5 , 6 ] ]\n",
    "num_array = np.array(object = num_list)"
   ]
  },
  {
   "cell_type": "code",
   "execution_count": 4,
   "id": "702ad69f",
   "metadata": {},
   "outputs": [
    {
     "name": "stdout",
     "output_type": "stream",
     "text": [
      "Data type of each element in list_:\n",
      "<class 'str'>\n",
      "<class 'str'>\n",
      "<class 'str'>\n",
      "<class 'str'>\n",
      "<class 'str'>\n",
      "Data type of each element in array_list:\n",
      "<class 'numpy.int32'>\n",
      "<class 'numpy.int32'>\n",
      "<class 'numpy.int32'>\n",
      "<class 'numpy.int32'>\n",
      "<class 'numpy.int32'>\n"
     ]
    }
   ],
   "source": [
    "import numpy as np\n",
    "\n",
    "list_ = ['1', '2', '3', '4', '5']\n",
    "array_list = np.array(object=list_, dtype=int)\n",
    "\n",
    "print(\"Data type of each element in list_:\")\n",
    "for item in list_:\n",
    "    print(type(item))\n",
    "\n",
    "print(\"Data type of each element in array_list:\")\n",
    "for item in array_list:\n",
    "    print(type(item))"
   ]
  },
  {
   "cell_type": "code",
   "execution_count": null,
   "id": "60c2730d",
   "metadata": {},
   "outputs": [],
   "source": [
    "Q4. Write a code to find the following characteristics of variable, num_array:\n",
    "(i) shape\n",
    "(ii) size"
   ]
  },
  {
   "cell_type": "code",
   "execution_count": 5,
   "id": "f9f78573",
   "metadata": {},
   "outputs": [
    {
     "name": "stdout",
     "output_type": "stream",
     "text": [
      "Shape of num_array: (2, 3)\n",
      "Size of num_array: 6\n"
     ]
    }
   ],
   "source": [
    "import numpy as np\n",
    "\n",
    "num_list = [[1, 2, 3], [4, 5, 6]]\n",
    "num_array = np.array(object=num_list)\n",
    "\n",
    "shape = num_array.shape\n",
    "print(\"Shape of num_array:\", shape)\n",
    "\n",
    "size = num_array.size\n",
    "print(\"Size of num_array:\", size)"
   ]
  },
  {
   "cell_type": "code",
   "execution_count": null,
   "id": "3133f60e",
   "metadata": {},
   "outputs": [],
   "source": [
    "Q5. Write a code to create numpy array of 3*3 matrix containing zeros only, using a numpy array\n",
    "creat function.\n",
    "[Hint: The size of the array will be 9 and the shape will be (3,3).]"
   ]
  },
  {
   "cell_type": "code",
   "execution_count": 6,
   "id": "f2500a24",
   "metadata": {},
   "outputs": [
    {
     "name": "stdout",
     "output_type": "stream",
     "text": [
      "[[0. 0. 0.]\n",
      " [0. 0. 0.]\n",
      " [0. 0. 0.]]\n"
     ]
    }
   ],
   "source": [
    "import numpy as np\n",
    "\n",
    "zero_array = np.zeros((3, 3))\n",
    "\n",
    "print(zero_array)"
   ]
  },
  {
   "cell_type": "code",
   "execution_count": null,
   "id": "35ca3cf4",
   "metadata": {},
   "outputs": [],
   "source": [
    "Q6. Create an identity matrix of shape (5,5) using numpy functions?\n",
    "[Hint: An identity matrix is a matrix containing 1 diagonally and other elements will be 0.]"
   ]
  },
  {
   "cell_type": "code",
   "execution_count": 8,
   "id": "35ce092c",
   "metadata": {},
   "outputs": [
    {
     "name": "stdout",
     "output_type": "stream",
     "text": [
      "[[1. 0. 0. 0. 0.]\n",
      " [0. 1. 0. 0. 0.]\n",
      " [0. 0. 1. 0. 0.]\n",
      " [0. 0. 0. 1. 0.]\n",
      " [0. 0. 0. 0. 1.]]\n"
     ]
    }
   ],
   "source": [
    "import numpy as np\n",
    "\n",
    "identity_matrix = np.eye(5)\n",
    "\n",
    "print(identity_matrix)"
   ]
  },
  {
   "cell_type": "code",
   "execution_count": null,
   "id": "68c50930",
   "metadata": {},
   "outputs": [],
   "source": []
  },
  {
   "cell_type": "code",
   "execution_count": null,
   "id": "1b2e3b35",
   "metadata": {},
   "outputs": [],
   "source": []
  }
 ],
 "metadata": {
  "kernelspec": {
   "display_name": "Python 3 (ipykernel)",
   "language": "python",
   "name": "python3"
  },
  "language_info": {
   "codemirror_mode": {
    "name": "ipython",
    "version": 3
   },
   "file_extension": ".py",
   "mimetype": "text/x-python",
   "name": "python",
   "nbconvert_exporter": "python",
   "pygments_lexer": "ipython3",
   "version": "3.9.7"
  }
 },
 "nbformat": 4,
 "nbformat_minor": 5
}
