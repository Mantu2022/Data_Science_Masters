{
 "cells": [
  {
   "cell_type": "code",
   "execution_count": null,
   "id": "93bf3eed",
   "metadata": {},
   "outputs": [],
   "source": [
    "Consider following code to answer further questions:\n",
    "import pandas as pd\n",
    "course_name = [‘Data Science’, ‘Machine Learning’, ‘Big Data’, ‘Data Engineer’]\n",
    "duration = [2,3,6,4]\n",
    "df = pd.DataFrame(data = {‘course_name’ : course_name, ‘duration’ : duration})\n",
    "Q1. Write a code to print the data present in the second row of the dataframe, df."
   ]
  },
  {
   "cell_type": "code",
   "execution_count": 5,
   "id": "1fba452c",
   "metadata": {},
   "outputs": [
    {
     "name": "stdout",
     "output_type": "stream",
     "text": [
      "course_name    Machine Learning\n",
      "duration                      3\n",
      "Name: 1, dtype: object\n"
     ]
    }
   ],
   "source": [
    "import pandas as pd\n",
    "\n",
    "course_name = ['Data Science', 'Machine Learning', 'Big Data', 'Data Engineer']\n",
    "duration = [2, 3, 6, 4]\n",
    "data={'course_name': course_name, 'duration': duration}\n",
    "df = pd.DataFrame(data={'course_name': course_name, 'duration': duration})\n",
    "\n",
    "# Print the data in the second row\n",
    "second_row = df.iloc[1]\n",
    "print(second_row)\n"
   ]
  },
  {
   "cell_type": "code",
   "execution_count": null,
   "id": "77b1d02a",
   "metadata": {},
   "outputs": [],
   "source": [
    "Q2. What is the difference between the functions loc and iloc in pandas.DataFrame?"
   ]
  },
  {
   "cell_type": "code",
   "execution_count": null,
   "id": "6e89ded0",
   "metadata": {},
   "outputs": [],
   "source": [
    "1. loc:\n",
    "\n",
    "The loc function is primarily label-based. It is used to access data using labels or boolean arrays based on the index and column names.\n",
    "It accepts explicit index labels for both rows and columns.\n",
    "The syntax for using loc is df.loc[row_label, column_label].\n",
    "The row and column labels can be single values, lists, or slices.\n",
    "The indexing is inclusive of both the start and end labels.\n",
    "loc can also accept boolean arrays to filter rows based on certain conditions.\n",
    "\n",
    "2. iloc:\n",
    "The iloc function is primarily integer-based. It is used to access data using integer-based indexing for rows and columns.\n",
    "It accepts implicit zero-based integer indexes for both rows and columns.\n",
    "The syntax for using iloc is df.iloc[row_index, column_index].\n",
    "The row and column indexes can be single integers, lists of integers, or slices.\n",
    "The indexing is exclusive of the end index value.\n",
    "iloc can also accept boolean arrays to filter rows based on certain conditions."
   ]
  },
  {
   "cell_type": "code",
   "execution_count": 7,
   "id": "01522b81",
   "metadata": {},
   "outputs": [
    {
     "name": "stdout",
     "output_type": "stream",
     "text": [
      "50\n",
      "50\n"
     ]
    }
   ],
   "source": [
    "import pandas as pd\n",
    "\n",
    "data = {'A': [10, 20, 30],\n",
    "        'B': [40, 50, 60],\n",
    "        'C': [70, 80, 90]}\n",
    "df = pd.DataFrame(data, index=['X', 'Y', 'Z'])\n",
    "\n",
    "# Using loc\n",
    "print(df.loc['Y', 'B'])    \n",
    "\n",
    "# Using iloc\n",
    "print(df.iloc[1, 1])       "
   ]
  },
  {
   "cell_type": "code",
   "execution_count": null,
   "id": "f19ab2a4",
   "metadata": {},
   "outputs": [],
   "source": [
    "Q3. Reindex the given dataframe using a variable, reindex = [3,0,1,2] and store it in the variable, new_df\n",
    "then find the output for both new_df.loc[2] and new_df.iloc[2].\n",
    "\n",
    "Did you observe any difference in both the outputs? If so then explain it.\n",
    "Consider the below code to answer further questions:\n",
    "import pandas as pd\n",
    "import numpy as np\n",
    "columns = ['column_1', 'column_2', 'column_3', 'column_4', 'column_5', 'column_6']\n",
    "indices = [1,2,3,4,5,6]\n",
    "#Creating a dataframe:\n",
    "df1 = pd.DataFrame(np.random.rand(6,6), columns = columns, index = indices)"
   ]
  },
  {
   "cell_type": "code",
   "execution_count": 10,
   "id": "9af2fddd",
   "metadata": {},
   "outputs": [
    {
     "name": "stdout",
     "output_type": "stream",
     "text": [
      "column_1    0.788560\n",
      "column_2    0.765105\n",
      "column_3    0.618652\n",
      "column_4    0.147873\n",
      "column_5    0.766539\n",
      "column_6    0.762580\n",
      "Name: 2, dtype: float64\n",
      "column_1    0.869829\n",
      "column_2    0.074968\n",
      "column_3    0.774109\n",
      "column_4    0.561720\n",
      "column_5    0.163384\n",
      "column_6    0.306584\n",
      "Name: 1, dtype: float64\n"
     ]
    }
   ],
   "source": [
    "import pandas as pd\n",
    "import numpy as np\n",
    "\n",
    "columns = ['column_1', 'column_2', 'column_3', 'column_4', 'column_5', 'column_6']\n",
    "indices = [1, 2, 3, 4, 5, 6]\n",
    "df1 = pd.DataFrame(np.random.rand(6, 6), columns=columns, index=indices)\n",
    "\n",
    "reindex = [3, 0, 1, 2]\n",
    "new_df = df1.reindex(reindex)\n",
    "\n",
    "# Accessing the data using loc\n",
    "print(new_df.loc[2])\n",
    "\n",
    "# Accessing the data using iloc\n",
    "print(new_df.iloc[2])\n"
   ]
  },
  {
   "cell_type": "code",
   "execution_count": null,
   "id": "5df06b03",
   "metadata": {},
   "outputs": [],
   "source": [
    "Q4. Write a code to find the following statistical measurements for the above dataframe df1:\n",
    "(i) mean of each and every column present in the dataframe.\n",
    "(ii) standard deviation of column, ‘column_2’"
   ]
  },
  {
   "cell_type": "code",
   "execution_count": 11,
   "id": "6217d0db",
   "metadata": {},
   "outputs": [
    {
     "name": "stdout",
     "output_type": "stream",
     "text": [
      "Mean of each column:\n",
      "column_1    0.599373\n",
      "column_2    0.408157\n",
      "column_3    0.279928\n",
      "column_4    0.463520\n",
      "column_5    0.668901\n",
      "column_6    0.687353\n",
      "dtype: float64\n",
      "\n",
      "Standard deviation of 'column_2': 0.3423889259754386\n"
     ]
    }
   ],
   "source": [
    "import pandas as pd\n",
    "import numpy as np\n",
    "\n",
    "columns = ['column_1', 'column_2', 'column_3', 'column_4', 'column_5', 'column_6']\n",
    "indices = [1, 2, 3, 4, 5, 6]\n",
    "df1 = pd.DataFrame(np.random.rand(6, 6), columns=columns, index=indices)\n",
    "\n",
    "column_means = df1.mean()\n",
    "print(\"Mean of each column:\")\n",
    "print(column_means)\n",
    "\n",
    "column_2_std = df1['column_2'].std()\n",
    "print(\"\\nStandard deviation of 'column_2':\", column_2_std)\n"
   ]
  },
  {
   "cell_type": "code",
   "execution_count": null,
   "id": "17b8ad05",
   "metadata": {},
   "outputs": [],
   "source": [
    "Q5. Replace the data present in the second row of column, ‘column_2’ by a string variable then find the\n",
    "mean of column, column_2.\n",
    "If you are getting errors in executing it then explain why.\n",
    "[Hint: To replace the data use df1.loc[] and equate this to string data of your choice.]"
   ]
  },
  {
   "cell_type": "code",
   "execution_count": null,
   "id": "ec8d67ac",
   "metadata": {},
   "outputs": [],
   "source": [
    "import pandas as pd\n",
    "import numpy as np\n",
    "\n",
    "columns = ['column_1', 'column_2', 'column_3', 'column_4', 'column_5', 'column_6']\n",
    "indices = [1, 2, 3, 4, 5, 6]\n",
    "df1 = pd.DataFrame(np.random.rand(6, 6), columns=columns, index=indices)\n",
    "\n",
    "df1.loc[2, 'column_2'] = 'string_data'\n",
    "\n",
    "column_2_mean = df1['column_2'].mean()\n",
    "print(\"Mean of 'column_2':\", column_2_mean)\n",
    "\n",
    "This error occurs because the presence of a string value in 'column_2' causes the column's data type to be coerced into object/string type. As a result, the mean() function, which calculates the mean of numerical values, cannot be applied to a column containing non-numeric data."
   ]
  },
  {
   "cell_type": "code",
   "execution_count": null,
   "id": "0923e9bf",
   "metadata": {},
   "outputs": [],
   "source": [
    "Q6. What do you understand about the windows function in pandas and list the types of windows\n",
    "functions?"
   ]
  },
  {
   "cell_type": "code",
   "execution_count": null,
   "id": "5d3312de",
   "metadata": {},
   "outputs": [],
   "source": [
    "In pandas, window functions refer to a group of functions that operate on a set of rows from a DataFrame or Series based on a specified window or sliding interval. These functions allow you to perform calculations and transformations over a moving window of data.\n",
    "\n",
    "Window functions are commonly used for time-series analysis, signal processing, rolling calculations, and other scenarios where computations need to be performed on a subset of data within a defined window.\n",
    "\n",
    "Pandas provides several types of window functions, including:\n",
    "\n",
    "1. Rolling Window Functions: These functions operate on a rolling window of a fixed size. The window moves along the data, and calculations are performed on each window. Some commonly used rolling window functions are:\n",
    "\n",
    "rolling(): Computes a rolling window of a fixed size.\n",
    "mean(): Calculates the mean within the rolling window.\n",
    "sum(): Calculates the sum within the rolling window.\n",
    "min(): Calculates the minimum value within the rolling window.\n",
    "max(): Calculates the maximum value within the rolling window.\n",
    "std(): Calculates the standard deviation within the rolling window.\n",
    "var(): Calculates the variance within the rolling window.\n",
    "\n",
    "2. Expanding Window Functions: These functions consider all preceding rows up to the current row. The size of the window grows with each new row. Some commonly used expanding window functions are:\n",
    "\n",
    "expanding(): Computes an expanding window of all preceding rows.\n",
    "cumsum(): Calculates the cumulative sum of all preceding rows.\n",
    "cumprod(): Calculates the cumulative product of all preceding rows.\n",
    "cummin(): Calculates the cumulative minimum value of all preceding rows.\n",
    "cummax(): Calculates the cumulative maximum value of all preceding rows.\n",
    "\n",
    "3. Exponential Weighted Functions: These functions apply exponentially decreasing weights to the values within the window, giving more weight to recent observations. Some commonly used exponential weighted functions are:\n",
    "\n",
    "ewm(): Applies exponentially weighted functions to a window.\n",
    "mean(): Calculates the exponentially weighted moving average.\n",
    "var(): Calculates the exponentially weighted moving variance."
   ]
  },
  {
   "cell_type": "code",
   "execution_count": null,
   "id": "8b6097e4",
   "metadata": {},
   "outputs": [],
   "source": [
    "Q7. Write a code to print only the current month and year at the time of answering this question.\n",
    "[Hint: Use pandas.datetime function]"
   ]
  },
  {
   "cell_type": "code",
   "execution_count": 13,
   "id": "1839936a",
   "metadata": {},
   "outputs": [
    {
     "name": "stdout",
     "output_type": "stream",
     "text": [
      "Current month: July\n",
      "Current year: 2023\n"
     ]
    },
    {
     "name": "stderr",
     "output_type": "stream",
     "text": [
      "C:\\Users\\Owner\\AppData\\Local\\Temp/ipykernel_10740/2863140001.py:4: FutureWarning: The pandas.datetime class is deprecated and will be removed from pandas in a future version. Import from datetime module instead.\n",
      "  current_date = pd.datetime.today()\n"
     ]
    }
   ],
   "source": [
    "import pandas as pd\n",
    "\n",
    "current_date = pd.datetime.today()\n",
    "\n",
    "current_month = current_date.strftime('%B')  # Full month name\n",
    "current_year = current_date.strftime('%Y')\n",
    "\n",
    "print(\"Current month:\", current_month)\n",
    "print(\"Current year:\", current_year)"
   ]
  },
  {
   "cell_type": "code",
   "execution_count": null,
   "id": "1255ece9",
   "metadata": {},
   "outputs": [],
   "source": [
    "Q8. Write a Python program that takes in two dates as input (in the format YYYY-MM-DD) and\n",
    "calculates the difference between them in days, hours, and minutes using Pandas time delta. The\n",
    "program should prompt the user to enter the dates and display the result."
   ]
  },
  {
   "cell_type": "code",
   "execution_count": 14,
   "id": "8f5598be",
   "metadata": {},
   "outputs": [
    {
     "name": "stdout",
     "output_type": "stream",
     "text": [
      "Enter the first date (YYYY-MM-DD): 20230503\n",
      "Enter the second date (YYYY-MM-DD): 20220403\n",
      "Difference between the two dates:\n",
      "-395 days, 0 hours, 0 minutes\n"
     ]
    }
   ],
   "source": [
    "import pandas as pd\n",
    "\n",
    "date1 = input(\"Enter the first date (YYYY-MM-DD): \")\n",
    "date2 = input(\"Enter the second date (YYYY-MM-DD): \")\n",
    "\n",
    "delta = pd.to_datetime(date2) - pd.to_datetime(date1)\n",
    "\n",
    "days = delta.days\n",
    "hours = delta.seconds // 3600\n",
    "minutes = (delta.seconds // 60) % 60\n",
    "\n",
    "print(\"Difference between the two dates:\")\n",
    "print(f\"{days} days, {hours} hours, {minutes} minutes\")\n"
   ]
  },
  {
   "cell_type": "code",
   "execution_count": null,
   "id": "1a40247c",
   "metadata": {},
   "outputs": [],
   "source": [
    "Q9. Write a Python program that reads a CSV file containing categorical data and converts a specified\n",
    "column to a categorical data type. The program should prompt the user to enter the file path, column\n",
    "name, and category order, and then display the sorted data."
   ]
  },
  {
   "cell_type": "code",
   "execution_count": null,
   "id": "470611a4",
   "metadata": {},
   "outputs": [],
   "source": [
    "import pandas as pd\n",
    "\n",
    "file_path = input(\"Enter the CSV file path: \")\n",
    "column_name = input(\"Enter the column name: \")\n",
    "category_order = input(\"Enter the category order (comma-separated): \").split(\",\")\n",
    "\n",
    "\n",
    "df = pd.read_csv(file_path)\n",
    "\n",
    "df[column_name] = pd.Categorical(df[column_name], categories=category_order, ordered=True)\n",
    "\n",
    "sorted_df = df.sort_values(by=column_name)\n",
    "\n",
    "print(\"Sorted Data:\")\n",
    "print(sorted_df)"
   ]
  },
  {
   "cell_type": "code",
   "execution_count": null,
   "id": "fa3ca3f5",
   "metadata": {},
   "outputs": [],
   "source": [
    "Q10. Write a Python program that reads a CSV file containing sales data for different products and\n",
    "visualizes the data using a stacked bar chart to show the sales of each product category over time. The\n",
    "program should prompt the user to enter the file path and display the chart."
   ]
  },
  {
   "cell_type": "code",
   "execution_count": null,
   "id": "bb9549fe",
   "metadata": {},
   "outputs": [],
   "source": [
    "import pandas as pd\n",
    "import matplotlib.pyplot as plt\n",
    "\n",
    "file_path = input(\"Enter the CSV file path: \")\n",
    "\n",
    "df = pd.read_csv(file_path)\n",
    "\n",
    "df['Date'] = pd.to_datetime(df['Date'])\n",
    "\n",
    "grouped_df = df.groupby(['Date', 'Product Category'])['Sales'].sum().unstack()\n",
    "\n",
    "fig, ax = plt.subplots()\n",
    "grouped_df.plot(kind='bar', stacked=True, ax=ax)\n",
    "\n",
    "ax.set_xlabel('Date')\n",
    "ax.set_ylabel('Sales')\n",
    "ax.set_title('Sales of Product Categories over Time')\n",
    "\n",
    "plt.show()"
   ]
  },
  {
   "cell_type": "code",
   "execution_count": null,
   "id": "5e035c8a",
   "metadata": {},
   "outputs": [],
   "source": [
    "Q11. You are given a CSV file containing student data that includes the student ID and their test score. Write\n",
    "a Python program that reads the CSV file, calculates the mean, median, and mode of the test scores, and\n",
    "displays the results in a table.\n",
    "The program should do the following:\n",
    "Prompt the user to enter the file path of the CSV file containing the student data.\n",
    "Read the CSV file into a Pandas DataFrame.\n",
    "Calculate the mean, median, and mode of the test scores using Pandas tools.\n",
    "Display the mean, median, and mode in a table.\n",
    "Assume the CSV file contains the following columns:\n",
    "Student ID: The ID of the student.\n",
    "Test Score: The score of the student's test.\n",
    "Example usage of the program:\n",
    "Enter the file path of the CSV file containing the student data: student_data.csv\n",
    "    \n",
    "+-----------+--------+\n",
    "| Statistic | Value |\n",
    "+-----------+--------+\n",
    "| Mean | 79.6 |\n",
    "| Median | 82 |\n",
    "| Mode | 85, 90 |\n",
    "+-----------+--------+\n",
    "Assume that the CSV file student_data.csv contains the following data:\n",
    "Student ID,Test Score\n",
    "1,85\n",
    "2,90\n",
    "3,80\n",
    "4,75\n",
    "5,85\n",
    "6,82\n",
    "7,78\n",
    "8,85\n",
    "9,90\n",
    "10,85\n",
    "The program should calculate the mean, median, and mode of the test scores and display the results\n",
    "in a table."
   ]
  },
  {
   "cell_type": "code",
   "execution_count": null,
   "id": "da513012",
   "metadata": {},
   "outputs": [],
   "source": [
    "import pandas as pd\n",
    "\n",
    "file_path = input(\"Enter the file path of the CSV file containing the student data: \")\n",
    "\n",
    "df = pd.read_csv(file_path)\n",
    "\n",
    "mean_score = df['Test Score'].mean()\n",
    "median_score = df['Test Score'].median()\n",
    "mode_scores = df['Test Score'].mode()\n",
    "\n",
    "results_table = pd.DataFrame({'Statistic': ['Mean', 'Median', 'Mode'],\n",
    "                              'Value': [mean_score, median_score, ', '.join(map(str, mode_scores))]})\n",
    "                              \n",
    "print(results_table)"
   ]
  },
  {
   "cell_type": "code",
   "execution_count": null,
   "id": "4d155042",
   "metadata": {},
   "outputs": [],
   "source": []
  }
 ],
 "metadata": {
  "kernelspec": {
   "display_name": "Python 3 (ipykernel)",
   "language": "python",
   "name": "python3"
  },
  "language_info": {
   "codemirror_mode": {
    "name": "ipython",
    "version": 3
   },
   "file_extension": ".py",
   "mimetype": "text/x-python",
   "name": "python",
   "nbconvert_exporter": "python",
   "pygments_lexer": "ipython3",
   "version": "3.9.7"
  }
 },
 "nbformat": 4,
 "nbformat_minor": 5
}
